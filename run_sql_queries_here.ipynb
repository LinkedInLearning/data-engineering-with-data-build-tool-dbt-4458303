{
 "cells": [
  {
   "cell_type": "code",
   "execution_count": 8,
   "metadata": {},
   "outputs": [],
   "source": [
    "import duckdb\n",
    "import pandas as pd"
   ]
  },
  {
   "cell_type": "code",
   "execution_count": 10,
   "metadata": {},
   "outputs": [
    {
     "data": {
      "text/html": [
       "<div>\n",
       "<style scoped>\n",
       "    .dataframe tbody tr th:only-of-type {\n",
       "        vertical-align: middle;\n",
       "    }\n",
       "\n",
       "    .dataframe tbody tr th {\n",
       "        vertical-align: top;\n",
       "    }\n",
       "\n",
       "    .dataframe thead th {\n",
       "        text-align: right;\n",
       "    }\n",
       "</style>\n",
       "<table border=\"1\" class=\"dataframe\">\n",
       "  <thead>\n",
       "    <tr style=\"text-align: right;\">\n",
       "      <th></th>\n",
       "      <th>violation_code</th>\n",
       "      <th>total_revenue_usd</th>\n",
       "    </tr>\n",
       "  </thead>\n",
       "  <tbody>\n",
       "    <tr>\n",
       "      <th>0</th>\n",
       "      <td>41</td>\n",
       "      <td>0</td>\n",
       "    </tr>\n",
       "  </tbody>\n",
       "</table>\n",
       "</div>"
      ],
      "text/plain": [
       "   violation_code  total_revenue_usd\n",
       "0              41                  0"
      ]
     },
     "metadata": {},
     "output_type": "display_data"
    }
   ],
   "source": [
    "sql_query = '''\n",
    "select * from \"nyc_parking_violations\".\"main_dbt_test__audit\".\"violation_codes_remove\"\n",
    "'''\n",
    "\n",
    "with duckdb.connect('data/nyc_parking_violations.db') as con:\n",
    "    results = con.execute(sql_query).fetchall()\n",
    "    # Get column names from the query result\n",
    "    column_names = [desc[0] for desc in con.description]\n",
    "    # Convert the results to a Pandas DataFrame\n",
    "    df = pd.DataFrame(results, columns=column_names)\n",
    "\n",
    "    # Display the DataFrame\n",
    "    display(df)"
   ]
  },
  {
   "cell_type": "code",
   "execution_count": null,
   "metadata": {},
   "outputs": [],
   "source": [
    "sql_query_import_1 = '''\n",
    "CREATE OR REPLACE TABLE parking_violation_codes AS\n",
    "SELECT *\n",
    "FROM read_csv_auto(\n",
    "  'data/dof_parking_violation_codes.csv',\n",
    "  normalize_names=True\n",
    "  )\n",
    "'''\n",
    "\n",
    "sql_query_import_2 = '''\n",
    "CREATE OR REPLACE TABLE parking_violations_2023 AS\n",
    "SELECT *\n",
    "FROM read_csv_auto(\n",
    "  'data/parking_violations_issued_fiscal_year_2023_sample.csv',\n",
    "  normalize_names=True\n",
    "  )\n",
    "'''\n",
    "\n",
    "with duckdb.connect('data/nyc_parking_violations.db') as con:\n",
    "  con.sql(sql_query_import_1)\n",
    "  con.sql(sql_query_import_2)"
   ]
  },
  {
   "cell_type": "code",
   "execution_count": null,
   "metadata": {
    "vscode": {
     "languageId": "sql"
    }
   },
   "outputs": [],
   "source": [
    "show tables;"
   ]
  },
  {
   "cell_type": "code",
   "execution_count": 11,
   "metadata": {
    "vscode": {
     "languageId": "sql"
    }
   },
   "outputs": [],
   "source": [
    "sql_query_import_3 = '''\n",
    "CREATE OR REPLACE TABLE parking_violation_codes AS\n",
    "SELECT *\n",
    "FROM read_csv_auto(\n",
    "  'data/dof_parking_violation_codes.csv',\n",
    "  normalize_names=True\n",
    "  )\n",
    "'''\n",
    "\n",
    "sql_query_import_4 = '''\n",
    "CREATE OR REPLACE TABLE parking_violations_2023 AS\n",
    "SELECT *\n",
    "FROM read_csv_auto(\n",
    "  'data/parking_violations_issued_fiscal_year_2023_sample.csv',\n",
    "  normalize_names=True\n",
    "  )\n",
    "'''\n",
    "\n",
    "with duckdb.connect('data/prod_nyc_parking_violations.db') as con:\n",
    "  con.sql(sql_query_import_3)\n",
    "  con.sql(sql_query_import_4)"
   ]
  },
  {
   "cell_type": "code",
   "execution_count": 12,
   "metadata": {
    "vscode": {
     "languageId": "sql"
    }
   },
   "outputs": [
    {
     "data": {
      "text/html": [
       "<div>\n",
       "<style scoped>\n",
       "    .dataframe tbody tr th:only-of-type {\n",
       "        vertical-align: middle;\n",
       "    }\n",
       "\n",
       "    .dataframe tbody tr th {\n",
       "        vertical-align: top;\n",
       "    }\n",
       "\n",
       "    .dataframe thead th {\n",
       "        text-align: right;\n",
       "    }\n",
       "</style>\n",
       "<table border=\"1\" class=\"dataframe\">\n",
       "  <thead>\n",
       "    <tr style=\"text-align: right;\">\n",
       "      <th></th>\n",
       "      <th>name</th>\n",
       "    </tr>\n",
       "  </thead>\n",
       "  <tbody>\n",
       "    <tr>\n",
       "      <th>0</th>\n",
       "      <td>bronze_parking_violation_codes</td>\n",
       "    </tr>\n",
       "    <tr>\n",
       "      <th>1</th>\n",
       "      <td>bronze_parking_violations</td>\n",
       "    </tr>\n",
       "    <tr>\n",
       "      <th>2</th>\n",
       "      <td>bronze_parking_violations_codes</td>\n",
       "    </tr>\n",
       "    <tr>\n",
       "      <th>3</th>\n",
       "      <td>first_model</td>\n",
       "    </tr>\n",
       "    <tr>\n",
       "      <th>4</th>\n",
       "      <td>gold_ticket_metrics</td>\n",
       "    </tr>\n",
       "    <tr>\n",
       "      <th>5</th>\n",
       "      <td>gold_vehicles_metrics</td>\n",
       "    </tr>\n",
       "    <tr>\n",
       "      <th>6</th>\n",
       "      <td>parking_violation_codes</td>\n",
       "    </tr>\n",
       "    <tr>\n",
       "      <th>7</th>\n",
       "      <td>parking_violations_2023</td>\n",
       "    </tr>\n",
       "    <tr>\n",
       "      <th>8</th>\n",
       "      <td>silver_violation_tickets</td>\n",
       "    </tr>\n",
       "    <tr>\n",
       "      <th>9</th>\n",
       "      <td>silver_violation_vehicles</td>\n",
       "    </tr>\n",
       "  </tbody>\n",
       "</table>\n",
       "</div>"
      ],
      "text/plain": [
       "                              name\n",
       "0   bronze_parking_violation_codes\n",
       "1        bronze_parking_violations\n",
       "2  bronze_parking_violations_codes\n",
       "3                      first_model\n",
       "4              gold_ticket_metrics\n",
       "5            gold_vehicles_metrics\n",
       "6          parking_violation_codes\n",
       "7          parking_violations_2023\n",
       "8         silver_violation_tickets\n",
       "9        silver_violation_vehicles"
      ]
     },
     "metadata": {},
     "output_type": "display_data"
    }
   ],
   "source": [
    "sql_query = '''\n",
    "show tables'''\n",
    "\n",
    "with duckdb.connect('data/prod_nyc_parking_violations.db') as con:\n",
    "    results = con.execute(sql_query).fetchall()\n",
    "    # Get column names from the query result\n",
    "    column_names = [desc[0] for desc in con.description]\n",
    "    # Convert the results to a Pandas DataFrame\n",
    "    df = pd.DataFrame(results, columns=column_names)\n",
    "\n",
    "    # Display the DataFrame\n",
    "    display(df)"
   ]
  }
 ],
 "metadata": {
  "kernelspec": {
   "display_name": "Python 3",
   "language": "python",
   "name": "python3"
  },
  "language_info": {
   "codemirror_mode": {
    "name": "ipython",
    "version": 3
   },
   "file_extension": ".py",
   "mimetype": "text/x-python",
   "name": "python",
   "nbconvert_exporter": "python",
   "pygments_lexer": "ipython3",
   "version": "3.10.12"
  },
  "orig_nbformat": 4,
  "vscode": {
   "interpreter": {
    "hash": "31f2aee4e71d21fbe5cf8b01ff0e069b9275f58929596ceb00d14d90e3e16cd6"
   }
  }
 },
 "nbformat": 4,
 "nbformat_minor": 2
}
