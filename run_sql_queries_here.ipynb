{
 "cells": [
  {
   "cell_type": "code",
   "execution_count": 2,
   "metadata": {},
   "outputs": [],
   "source": [
    "import duckdb\n",
    "import pandas as pd"
   ]
  },
  {
   "cell_type": "code",
   "execution_count": 24,
   "metadata": {},
   "outputs": [
    {
     "data": {
      "text/plain": [
       "┌────────────────────────────────┐\n",
       "│              name              │\n",
       "│            varchar             │\n",
       "├────────────────────────────────┤\n",
       "│ bronze_parking_violation_codes │\n",
       "│ bronze_parking_violations      │\n",
       "│ gold_ticket_metrics            │\n",
       "│ gold_vehicles_metrics          │\n",
       "│ parking_violation_codes        │\n",
       "│ parking_violations_2023        │\n",
       "│ silver_violation_tickets       │\n",
       "│ silver_violation_vehicles      │\n",
       "└────────────────────────────────┘"
      ]
     },
     "metadata": {},
     "output_type": "display_data"
    },
    {
     "ename": "BinderException",
     "evalue": "Binder Error: Catalog \"nyc_parking_violations\" does not exist!",
     "output_type": "error",
     "traceback": [
      "\u001b[0;31m---------------------------------------------------------------------------\u001b[0m",
      "\u001b[0;31mBinderException\u001b[0m                           Traceback (most recent call last)",
      "Cell \u001b[0;32mIn[24], line 5\u001b[0m\n\u001b[1;32m      1\u001b[0m sql_query \u001b[38;5;241m=\u001b[39m \u001b[38;5;124m'''\u001b[39m\n\u001b[1;32m      2\u001b[0m \u001b[38;5;124mselect * from \u001b[39m\u001b[38;5;124m\"\u001b[39m\u001b[38;5;124mnyc_parking_violations\u001b[39m\u001b[38;5;124m\"\u001b[39m\u001b[38;5;124m.\u001b[39m\u001b[38;5;124m\"\u001b[39m\u001b[38;5;124mmain_dbt_test__audit\u001b[39m\u001b[38;5;124m\"\u001b[39m\u001b[38;5;124m.\u001b[39m\u001b[38;5;124m\"\u001b[39m\u001b[38;5;124mviolation_codes_revenue\u001b[39m\u001b[38;5;124m\"\u001b[39m\n\u001b[1;32m      3\u001b[0m \u001b[38;5;124m'''\u001b[39m\n\u001b[0;32m----> 5\u001b[0m \u001b[38;5;28;01mwith\u001b[39;00m duckdb\u001b[38;5;241m.\u001b[39mconnect(\u001b[38;5;124m'\u001b[39m\u001b[38;5;124mdata/prod_nyc_parking_violations.db\u001b[39m\u001b[38;5;124m'\u001b[39m) \u001b[38;5;28;01mas\u001b[39;00m con:\n\u001b[1;32m      6\u001b[0m     display(con\u001b[38;5;241m.\u001b[39msql(\u001b[38;5;124m'\u001b[39m\u001b[38;5;124mshow tables\u001b[39m\u001b[38;5;124m'\u001b[39m))\n\u001b[1;32m      7\u001b[0m     display(con\u001b[38;5;241m.\u001b[39msql(sql_query)\u001b[38;5;241m.\u001b[39mdf())\n",
      "Cell \u001b[0;32mIn[24], line 7\u001b[0m\n\u001b[1;32m      5\u001b[0m \u001b[38;5;28;01mwith\u001b[39;00m duckdb\u001b[38;5;241m.\u001b[39mconnect(\u001b[38;5;124m'\u001b[39m\u001b[38;5;124mdata/prod_nyc_parking_violations.db\u001b[39m\u001b[38;5;124m'\u001b[39m) \u001b[38;5;28;01mas\u001b[39;00m con:\n\u001b[1;32m      6\u001b[0m     display(con\u001b[38;5;241m.\u001b[39msql(\u001b[38;5;124m'\u001b[39m\u001b[38;5;124mshow tables\u001b[39m\u001b[38;5;124m'\u001b[39m))\n\u001b[0;32m----> 7\u001b[0m     display(\u001b[43mcon\u001b[49m\u001b[38;5;241;43m.\u001b[39;49m\u001b[43msql\u001b[49m\u001b[43m(\u001b[49m\u001b[43msql_query\u001b[49m\u001b[43m)\u001b[49m\u001b[38;5;241m.\u001b[39mdf())\n",
      "\u001b[0;31mBinderException\u001b[0m: Binder Error: Catalog \"nyc_parking_violations\" does not exist!"
     ]
    }
   ],
   "source": [
    "sql_query = '''\n",
    "select * from \"nyc_parking_violations\".\"main_dbt_test__audit\".\"violation_codes_revenue\"\n",
    "'''\n",
    "\n",
    "with duckdb.connect('data/prod_nyc_parking_violations.db') as con:\n",
    "    display(con.sql('show tables'))\n",
    "    display(con.sql(sql_query).df())"
   ]
  },
  {
   "cell_type": "code",
   "execution_count": 23,
   "metadata": {},
   "outputs": [
    {
     "data": {
      "text/plain": [
       "┌─────────────────────────┐\n",
       "│          name           │\n",
       "│         varchar         │\n",
       "├─────────────────────────┤\n",
       "│ parking_violation_codes │\n",
       "│ parking_violations_2023 │\n",
       "└─────────────────────────┘"
      ]
     },
     "metadata": {},
     "output_type": "display_data"
    },
    {
     "ename": "BinderException",
     "evalue": "Binder Error: Catalog \"nyc_parking_violations\" does not exist!",
     "output_type": "error",
     "traceback": [
      "\u001b[0;31m---------------------------------------------------------------------------\u001b[0m",
      "\u001b[0;31mBinderException\u001b[0m                           Traceback (most recent call last)",
      "Cell \u001b[0;32mIn[23], line 20\u001b[0m\n\u001b[1;32m      2\u001b[0m sql_query_import_1 \u001b[38;5;241m=\u001b[39m \u001b[38;5;124m'''\u001b[39m\n\u001b[1;32m      3\u001b[0m \u001b[38;5;124mCREATE OR REPLACE TABLE parking_violation_codes AS\u001b[39m\n\u001b[1;32m      4\u001b[0m \u001b[38;5;124mSELECT *\u001b[39m\n\u001b[0;32m   (...)\u001b[0m\n\u001b[1;32m      8\u001b[0m \u001b[38;5;124m)\u001b[39m\n\u001b[1;32m      9\u001b[0m \u001b[38;5;124m'''\u001b[39m\n\u001b[1;32m     11\u001b[0m sql_query_import_2 \u001b[38;5;241m=\u001b[39m \u001b[38;5;124m'''\u001b[39m\n\u001b[1;32m     12\u001b[0m \u001b[38;5;124mCREATE OR REPLACE TABLE parking_violations_2023 AS\u001b[39m\n\u001b[1;32m     13\u001b[0m \u001b[38;5;124mSELECT *\u001b[39m\n\u001b[0;32m   (...)\u001b[0m\n\u001b[1;32m     17\u001b[0m \u001b[38;5;124m)\u001b[39m\n\u001b[1;32m     18\u001b[0m \u001b[38;5;124m'''\u001b[39m\n\u001b[0;32m---> 20\u001b[0m \u001b[38;5;28;01mwith\u001b[39;00m duckdb\u001b[38;5;241m.\u001b[39mconnect(\u001b[38;5;124m'\u001b[39m\u001b[38;5;124mdata/prod_nyc_parking_violations.db\u001b[39m\u001b[38;5;124m'\u001b[39m) \u001b[38;5;28;01mas\u001b[39;00m con:\n\u001b[1;32m     21\u001b[0m   con\u001b[38;5;241m.\u001b[39msql(sql_query_import_1)\n\u001b[1;32m     22\u001b[0m   con\u001b[38;5;241m.\u001b[39msql(sql_query_import_2)\n",
      "Cell \u001b[0;32mIn[23], line 24\u001b[0m\n\u001b[1;32m     22\u001b[0m con\u001b[38;5;241m.\u001b[39msql(sql_query_import_2)\n\u001b[1;32m     23\u001b[0m display(con\u001b[38;5;241m.\u001b[39msql(\u001b[38;5;124m'\u001b[39m\u001b[38;5;124mshow tables\u001b[39m\u001b[38;5;124m'\u001b[39m))\n\u001b[0;32m---> 24\u001b[0m display(\u001b[43mcon\u001b[49m\u001b[38;5;241;43m.\u001b[39;49m\u001b[43msql\u001b[49m\u001b[43m(\u001b[49m\u001b[43msql_query\u001b[49m\u001b[43m)\u001b[49m)\n",
      "\u001b[0;31mBinderException\u001b[0m: Binder Error: Catalog \"nyc_parking_violations\" does not exist!"
     ]
    }
   ],
   "source": [
    "# Creating the database tables\n",
    "sql_query_import_1 = '''\n",
    "CREATE OR REPLACE TABLE parking_violation_codes AS\n",
    "SELECT *\n",
    "FROM read_csv_auto(\n",
    "  'data/dof_parking_violation_codes.csv',\n",
    "  normalize_names=True\n",
    ")\n",
    "'''\n",
    "\n",
    "sql_query_import_2 = '''\n",
    "CREATE OR REPLACE TABLE parking_violations_2023 AS\n",
    "SELECT *\n",
    "FROM read_csv_auto(\n",
    "  'data/parking_violations_issued_fiscal_year_2023_sample.csv',\n",
    "  normalize_names=True\n",
    ")\n",
    "'''\n",
    "\n",
    "with duckdb.connect('data/prod_nyc_parking_violations.db') as con:\n",
    "  con.sql(sql_query_import_1)\n",
    "  con.sql(sql_query_import_2)\n",
    "  display(con.sql('show tables'))\n",
    "  display(con.sql(sql_query))"
   ]
  }
 ],
 "metadata": {
  "kernelspec": {
   "display_name": "Python 3",
   "language": "python",
   "name": "python3"
  },
  "language_info": {
   "codemirror_mode": {
    "name": "ipython",
    "version": 3
   },
   "file_extension": ".py",
   "mimetype": "text/x-python",
   "name": "python",
   "nbconvert_exporter": "python",
   "pygments_lexer": "ipython3",
   "version": "3.10.12"
  },
  "orig_nbformat": 4,
  "vscode": {
   "interpreter": {
    "hash": "31f2aee4e71d21fbe5cf8b01ff0e069b9275f58929596ceb00d14d90e3e16cd6"
   }
  }
 },
 "nbformat": 4,
 "nbformat_minor": 2
}
